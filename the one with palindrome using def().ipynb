{
 "cells": [
  {
   "cell_type": "code",
   "execution_count": 10,
   "metadata": {},
   "outputs": [
    {
     "name": "stdout",
     "output_type": "stream",
     "text": [
      "enter the string : malayalam\n",
      "reverse of the string is :  malayalam\n",
      "yes\n"
     ]
    }
   ],
   "source": [
    "def reverse(str1):\n",
    "    if(len(str1)==0):\n",
    "        return str1\n",
    "    else:\n",
    "        return(reverse(str1[1:])+str1[0])\n",
    "\n",
    "string=input(\"enter the string : \")\n",
    "str1=reverse(string)\n",
    "print(\"reverse of the string is : \",str1)\n",
    "if(string==str1):\n",
    "    print(\"yes\")\n",
    "else:\n",
    "    print(\"no\")"
   ]
  },
  {
   "cell_type": "code",
   "execution_count": null,
   "metadata": {},
   "outputs": [],
   "source": []
  },
  {
   "cell_type": "code",
   "execution_count": null,
   "metadata": {},
   "outputs": [],
   "source": []
  }
 ],
 "metadata": {
  "kernelspec": {
   "display_name": "Python 3",
   "language": "python",
   "name": "python3"
  },
  "language_info": {
   "codemirror_mode": {
    "name": "ipython",
    "version": 3
   },
   "file_extension": ".py",
   "mimetype": "text/x-python",
   "name": "python",
   "nbconvert_exporter": "python",
   "pygments_lexer": "ipython3",
   "version": "3.7.4"
  }
 },
 "nbformat": 4,
 "nbformat_minor": 2
}
