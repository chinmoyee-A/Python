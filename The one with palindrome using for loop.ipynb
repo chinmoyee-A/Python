{
 "cells": [
  {
   "cell_type": "code",
   "execution_count": 4,
   "metadata": {},
   "outputs": [
    {
     "name": "stdout",
     "output_type": "stream",
     "text": [
      "enter a string : wow\n",
      "pallindrome\n"
     ]
    }
   ],
   "source": [
    "# palindrome using a for loop\n",
    "string=input(\"enter a string : \")\n",
    "stre=string[::-1]\n",
    "for i in string :\n",
    "    if string==stre:\n",
    "        print(\"pallindrome\")\n",
    "    else:\n",
    "        print(\"not\")\n",
    "    break"
   ]
  },
  {
   "cell_type": "code",
   "execution_count": null,
   "metadata": {},
   "outputs": [],
   "source": []
  }
 ],
 "metadata": {
  "kernelspec": {
   "display_name": "Python 3",
   "language": "python",
   "name": "python3"
  },
  "language_info": {
   "codemirror_mode": {
    "name": "ipython",
    "version": 3
   },
   "file_extension": ".py",
   "mimetype": "text/x-python",
   "name": "python",
   "nbconvert_exporter": "python",
   "pygments_lexer": "ipython3",
   "version": "3.7.4"
  }
 },
 "nbformat": 4,
 "nbformat_minor": 2
}
