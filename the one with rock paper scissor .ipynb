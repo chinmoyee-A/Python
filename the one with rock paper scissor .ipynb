{
 "cells": [
  {
   "cell_type": "code",
   "execution_count": 5,
   "metadata": {},
   "outputs": [
    {
     "name": "stdout",
     "output_type": "stream",
     "text": [
      "Whats your name: chinu\n",
      "whats your name: minu\n",
      "chinu,what do you want to choose, rock , paper or scissors ?paper\n",
      "minu,what do you want to choose, rock , paper or scissors ?rock\n",
      "paper wins!\n"
     ]
    }
   ],
   "source": [
    "import sys\n",
    "user_1=(input(\"Whats your name: \"))\n",
    "user_2=(input(\"whats your name: \"))\n",
    "uans1=(input(\"%s,what do you want to choose, rock , paper or scissors ?\"%user_1))\n",
    "uans2=(input(\"%s,what do you want to choose, rock , paper or scissors ?\"%user_2))\n",
    "\n",
    "def compare(u1,u2):\n",
    "    if(u1==u2):\n",
    "        return(\"its a tie\")\n",
    "    elif(u1=='rock'):\n",
    "        if(u2=='paper'):\n",
    "            return(\"paper wins\")\n",
    "        else:\n",
    "            return(\"rock wins!\")\n",
    "    elif(u1=='paper'):\n",
    "        if(u2=='scissor'):\n",
    "            return(\"scissor wins\")\n",
    "        else:\n",
    "            return(\"paper wins!\")\n",
    "    elif(u1=='scissor'):\n",
    "        if(u2=='rock'):\n",
    "            return(\"rock wins\")\n",
    "        else:\n",
    "            return(\"scissor\")\n",
    "    else:\n",
    "        return(\"invalid!, try again.\")\n",
    "        sys.exit()\n",
    "print(compare(uans1,uans2))\n",
    "        "
   ]
  },
  {
   "cell_type": "code",
   "execution_count": null,
   "metadata": {},
   "outputs": [],
   "source": []
  }
 ],
 "metadata": {
  "kernelspec": {
   "display_name": "Python 3",
   "language": "python",
   "name": "python3"
  },
  "language_info": {
   "codemirror_mode": {
    "name": "ipython",
    "version": 3
   },
   "file_extension": ".py",
   "mimetype": "text/x-python",
   "name": "python",
   "nbconvert_exporter": "python",
   "pygments_lexer": "ipython3",
   "version": "3.7.4"
  }
 },
 "nbformat": 4,
 "nbformat_minor": 2
}
