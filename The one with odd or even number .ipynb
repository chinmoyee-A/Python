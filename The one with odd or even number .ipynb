{
 "cells": [
  {
   "cell_type": "code",
   "execution_count": 1,
   "metadata": {},
   "outputs": [],
   "source": [
    "# Q-Odd or Even and check if it is mutliple of 4 "
   ]
  },
  {
   "cell_type": "code",
   "execution_count": 6,
   "metadata": {},
   "outputs": [
    {
     "name": "stdout",
     "output_type": "stream",
     "text": [
      "enter the number:3\n",
      "enter number to check with:3\n",
      "3 is not an even number\n",
      "3 divides evenly by 3\n"
     ]
    }
   ],
   "source": [
    "num=int(input(\"enter the number:\"))\n",
    "check=int(input(\"enter number to check with:\"))\n",
    "if num%4==0:\n",
    "    print( num,\"is a multiple of 4 and also an even number\")\n",
    "elif num%2==0:\n",
    "    print(num,\"is a even number\")\n",
    "else:\n",
    "    print(num,\"is not an even number\")\n",
    "\n",
    "\n",
    "if num%check ==0:\n",
    "    print(num, \"divides evenly by\",check)\n",
    "else:\n",
    "    print(\"ain't divisible by\",check)"
   ]
  },
  {
   "cell_type": "code",
   "execution_count": null,
   "metadata": {},
   "outputs": [],
   "source": []
  },
  {
   "cell_type": "code",
   "execution_count": null,
   "metadata": {},
   "outputs": [],
   "source": []
  }
 ],
 "metadata": {
  "kernelspec": {
   "display_name": "Python 3",
   "language": "python",
   "name": "python3"
  },
  "language_info": {
   "codemirror_mode": {
    "name": "ipython",
    "version": 3
   },
   "file_extension": ".py",
   "mimetype": "text/x-python",
   "name": "python",
   "nbconvert_exporter": "python",
   "pygments_lexer": "ipython3",
   "version": "3.7.4"
  }
 },
 "nbformat": 4,
 "nbformat_minor": 2
}
