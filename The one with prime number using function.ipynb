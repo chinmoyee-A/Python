{
 "cells": [
  {
   "cell_type": "code",
   "execution_count": 12,
   "metadata": {},
   "outputs": [
    {
     "name": "stdout",
     "output_type": "stream",
     "text": [
      "Not a prime number ! 9\n"
     ]
    }
   ],
   "source": [
    "##prime number\n",
    "def prime_number(n):\n",
    "    if(n>1):\n",
    "        for i in range(2,n):\n",
    "            if(n%i)==0:\n",
    "                print(\"Not a prime number !\", n)\n",
    "                break\n",
    "        else:\n",
    "            print(\"A prime number\")\n",
    "                \n",
    "    else:\n",
    "        print(\"Not a prime number \")\n",
    "        \n",
    "prime_number(9)"
   ]
  },
  {
   "cell_type": "code",
   "execution_count": null,
   "metadata": {},
   "outputs": [],
   "source": []
  }
 ],
 "metadata": {
  "kernelspec": {
   "display_name": "Python 3",
   "language": "python",
   "name": "python3"
  },
  "language_info": {
   "codemirror_mode": {
    "name": "ipython",
    "version": 3
   },
   "file_extension": ".py",
   "mimetype": "text/x-python",
   "name": "python",
   "nbconvert_exporter": "python",
   "pygments_lexer": "ipython3",
   "version": "3.7.4"
  }
 },
 "nbformat": 4,
 "nbformat_minor": 2
}
