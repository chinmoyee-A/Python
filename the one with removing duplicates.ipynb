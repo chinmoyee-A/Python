{
 "cells": [
  {
   "cell_type": "code",
   "execution_count": 1,
   "metadata": {},
   "outputs": [
    {
     "name": "stdout",
     "output_type": "stream",
     "text": [
      "before removing duplicate :  [1, 2, 3, 5, 5, 2, 7, 8, 6, 6, 1, 1]\n",
      "List after removing duplicate [1, 2, 3, 5, 7, 8, 6]\n"
     ]
    }
   ],
   "source": [
    "list=[1,2,3,5,5,2,7,8,6,6,1,1]\n",
    "print(\"before removing duplicate : \",list)\n",
    "temp_list=[]\n",
    "for i in list:\n",
    "    if i not in temp_list:\n",
    "        temp_list.append(i)\n",
    "list=temp_list\n",
    "print(\"List after removing duplicate\",list)"
   ]
  },
  {
   "cell_type": "code",
   "execution_count": null,
   "metadata": {},
   "outputs": [],
   "source": []
  }
 ],
 "metadata": {
  "kernelspec": {
   "display_name": "Python 3",
   "language": "python",
   "name": "python3"
  },
  "language_info": {
   "codemirror_mode": {
    "name": "ipython",
    "version": 3
   },
   "file_extension": ".py",
   "mimetype": "text/x-python",
   "name": "python",
   "nbconvert_exporter": "python",
   "pygments_lexer": "ipython3",
   "version": "3.7.4"
  }
 },
 "nbformat": 4,
 "nbformat_minor": 2
}
